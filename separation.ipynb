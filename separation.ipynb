{
 "cells": [
  {
   "cell_type": "code",
   "execution_count": null,
   "metadata": {},
   "outputs": [],
   "source": [
    "# This file will help if you want to use small set of Image Data "
   ]
  },
  {
   "cell_type": "code",
   "execution_count": 2,
   "metadata": {},
   "outputs": [],
   "source": [
    "from shutil import copyfile\n",
    "import pandas as pd\n",
    "import numpy as np\n",
    "import os"
   ]
  },
  {
   "cell_type": "code",
   "execution_count": 3,
   "metadata": {},
   "outputs": [],
   "source": [
    "DIR = 'C:/project/fashion/static/myntradataset/'\n",
    "df = pd.read_csv(DIR+'styles.csv', on_bad_lines='skip')"
   ]
  },
  {
   "cell_type": "code",
   "execution_count": 4,
   "metadata": {},
   "outputs": [],
   "source": [
    "df['image'] = df['id'].astype(str) + '.jpg'"
   ]
  },
  {
   "cell_type": "code",
   "execution_count": 5,
   "metadata": {},
   "outputs": [],
   "source": [
    "image_files = os.listdir(DIR+'images')"
   ]
  },
  {
   "cell_type": "code",
   "execution_count": 6,
   "metadata": {},
   "outputs": [],
   "source": [
    "df['present'] = df['image'].apply(lambda x: x in image_files)\n",
    "df = df[df['present']].reset_index(drop=True)"
   ]
  },
  {
   "cell_type": "code",
   "execution_count": 7,
   "metadata": {},
   "outputs": [],
   "source": [
    "styles = df[df['masterCategory'].isin(['Apparel'])]"
   ]
  },
  {
   "cell_type": "code",
   "execution_count": 8,
   "metadata": {},
   "outputs": [
    {
     "name": "stdout",
     "output_type": "stream",
     "text": [
      "Image copying completed.\n"
     ]
    }
   ],
   "source": [
    "# Assuming 'styles' is your DataFrame with an 'image' column\n",
    "# and 'image_directory' is the directory where all your images are stored\n",
    "# Replace 'your_styles.csv' with your actual CSV file\n",
    "\n",
    "# Specify the source and destination directories\n",
    "source_directory = 'C:/project/fashion/static/myntradataset/images'  # Replace with your actual image directory\n",
    "destination_directory = 'C:/project/fashion/static/dataset'  # Replace with the desired destination directory\n",
    "\n",
    "# Create the destination directory if it doesn't exist\n",
    "os.makedirs(destination_directory, exist_ok=True)\n",
    "\n",
    "# Iterate through the DataFrame and copy the selected images to the new folder\n",
    "for index, row in styles.iterrows():\n",
    "    image_name = row['image']\n",
    "    source_path = os.path.join(source_directory, image_name)\n",
    "    destination_path = os.path.join(destination_directory, image_name)\n",
    "\n",
    "    # Check if the image file exists before copying\n",
    "    if os.path.exists(source_path):\n",
    "        copyfile(source_path, destination_path)\n",
    "    else:\n",
    "        print(f\"Warning: Image {image_name} not found in the source directory.\")\n",
    "\n",
    "print(\"Image copying completed.\")"
   ]
  }
 ],
 "metadata": {
  "kernelspec": {
   "display_name": "base",
   "language": "python",
   "name": "python3"
  },
  "language_info": {
   "codemirror_mode": {
    "name": "ipython",
    "version": 3
   },
   "file_extension": ".py",
   "mimetype": "text/x-python",
   "name": "python",
   "nbconvert_exporter": "python",
   "pygments_lexer": "ipython3",
   "version": "3.8.8"
  }
 },
 "nbformat": 4,
 "nbformat_minor": 2
}
